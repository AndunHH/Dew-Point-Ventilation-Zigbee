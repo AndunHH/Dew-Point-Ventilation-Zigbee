{
 "cells": [
  {
   "cell_type": "code",
   "execution_count": null,
   "metadata": {
    "metadata": {}
   },
   "outputs": [],
   "source": [
    "# To run this script install the Python and Jupyter Extension to vscode\n",
    "# Then click \"Select Python Kernel\" and create a new virtual environment based on the requirements.txt file\n",
    "\n",
    "#!/usr/bin/env python3\n",
    "# -*- coding: utf-8 -*-\n",
    "\n",
    "import matplotlib.pyplot as plt\n",
    "import pandas as pd\n",
    "import scipy.stats as stats\n",
    "import seaborn as sns\n",
    "import numpy as np\n",
    "import os\n",
    "# select file\n",
    "from tkinter import * \n",
    "from tkinter.filedialog import askopenfilename #filepicker\n",
    "\n",
    "Tk().withdraw() # don't show everything\n",
    "filename = askopenfilename()\n",
    "print(filename) #print filename to the console for debuggin"
   ]
  },
  {
   "cell_type": "code",
   "execution_count": null,
   "metadata": {
    "metadata": {}
   },
   "outputs": [],
   "source": [
    "# split up the file and path name\n",
    "\n",
    "base, ext = os.path.splitext(filename)\n",
    "path = os.path.dirname(base);\n",
    "fileNameOnly = base.split(\"/\")[-1];\n",
    "origExt = ext;\n",
    "#print(path)\n",
    "#print(fileNameOnly)\n",
    "#print(origExt)\n",
    "\n",
    "fullOrigFileNamePath = path + os.path.sep + fileNameOnly + ext;\n",
    "#print(fullOrigFileNamePath)"
   ]
  },
  {
   "cell_type": "code",
   "execution_count": null,
   "metadata": {
    "metadata": {}
   },
   "outputs": [],
   "source": [
    "# Clean up the csv file before showing it by copying it into a new file\n",
    "\n",
    "newFilename = path + os.path.sep + fileNameOnly + \"_cor.csv\"\n",
    "\n",
    "fNew = open(newFilename,\"w\"); # open/overwrite corrected file\n",
    "with open(fullOrigFileNamePath) as f:\n",
    "    # go through the original file and ...\n",
    "    for i, line in enumerate(f):\n",
    "        line = line.rstrip('\\n;') #re,ove trailing ; and newline if present and\n",
    "        line = line + \"\\n\"; # just add the newline again\n",
    "        fNew.write(line)\n",
    "        \n",
    "fNew.close();\n",
    "fileToAnalyze = newFilename;\n",
    "print(fileToAnalyze)"
   ]
  },
  {
   "cell_type": "code",
   "execution_count": null,
   "metadata": {
    "metadata": {}
   },
   "outputs": [],
   "source": [
    "# read the file once to detect the repeated header rows\n",
    "header_rows = []\n",
    "header_start = \"Date\" # repeated Headers start with \"Date\"\n",
    "with open(fileToAnalyze) as f:\n",
    "    for i, line in enumerate(f):\n",
    "        if line.endswith(\";\"):\n",
    "            print(\"row\",i, \"ends with ;, which may lead to problems...\");\n",
    "        if line.startswith(header_start):\n",
    "            header_rows.append(i)\n",
    "        elif line.startswith('1970'):\n",
    "            # 1970-0-0 kann nicht als datetime interpretiert werden, weil es kein Monat 0 gibt\n",
    "            header_rows.append(i)\n",
    "            \n",
    "f.close();\n",
    "# the first (real) row should always be detected\n",
    "assert header_rows[0] == 0\n",
    "# The header line is missing some how.... TODO: copy the following header file into the first line of the corrected file\n",
    "# Date;Temperature T_i;Temperature T_o;Humidity H_i;Humidity H_o;Dew point DP_i;Dew point DP_o;validCnt_i;validCnt_o;Fan;Mode;On_s;Off_s\n",
    "# skip all header rows except for the first one (the real one)\n",
    "print(header_rows)"
   ]
  },
  {
   "cell_type": "code",
   "execution_count": null,
   "metadata": {
    "metadata": {}
   },
   "outputs": [],
   "source": [
    "# usual import of the cleaned file\n",
    "data = pd.read_csv(fileToAnalyze, sep=\";\", decimal=\".\" \n",
    "                   , parse_dates=[\"Date\"]\n",
    "                   , index_col=[\"Date\"]\n",
    "                   , on_bad_lines='warn'\n",
    "                   , skiprows=header_rows[1:]\n",
    "                   #,dtype = {'Temperature T_o': np.float16},\n",
    "                   );\n",
    "print(len(data))\n",
    "data"
   ]
  },
  {
   "cell_type": "code",
   "execution_count": null,
   "metadata": {
    "metadata": {}
   },
   "outputs": [],
   "source": [
    "# %% sortierung\n",
    "data.sort_values(by=['Date'], inplace=True); # sort to date\n",
    "data = data.loc['2020':]; # remove 1970 values\n",
    "print(len(data))"
   ]
  },
  {
   "cell_type": "code",
   "execution_count": null,
   "metadata": {
    "metadata": {}
   },
   "outputs": [],
   "source": [
    "# %%  interesting date?\n",
    "#data = data.loc['2024-04-09':'2024-04-11']\n",
    "\n",
    "# %% replace values with n/a where validCnt = 0 because there are no measured data here\n",
    "validO =  data['validCnt_o'] > 0;\n",
    "validI =  data['validCnt_i'] > 0;\n",
    "\n",
    "# %% get fan state and decode \n",
    "data['Fan'] = data['Fan'].astype('category')\n",
    "categorie_codes = dict(enumerate(data['Fan'].cat.categories))\n",
    "data['Fan'] = data['Fan'].cat.codes\n",
    "print(categorie_codes)"
   ]
  },
  {
   "cell_type": "code",
   "execution_count": null,
   "metadata": {
    "metadata": {}
   },
   "outputs": [],
   "source": [
    "# calculate how long the fan was running. using the onTime Value\n",
    "# find local maxima, where the value before and behind is smaller.\n",
    "localMax = ((data[\"On_s\"].shift(1) < data[\"On_s\"]) & (data[\"On_s\"].shift(-1) < data[\"On_s\"]))\n",
    "\n",
    "totalOnTime_s = sum(data[\"On_s\"][localMax]);\n",
    "\n",
    "totalOnTime_h = int(round(totalOnTime_s/60/60,0));\n",
    "totalOnTime_Hmin = int(round((totalOnTime_s/60)%60)); # minutes to hours\n",
    "      \n",
    "print(totalOnTime_s/60);\n",
    "print(totalOnTime_h)\n",
    "print(totalOnTime_Hmin)"
   ]
  },
  {
   "cell_type": "code",
   "execution_count": null,
   "metadata": {
    "metadata": {}
   },
   "outputs": [],
   "source": [
    "# indicate limits in plot\n",
    "\n",
    "#define DELTAP 3.0    // Der Taupunkt draußen muss um diese Gradzahl kleiner sein als drinnen, damit gelüftet wird\n",
    "neccesDeltaP = 3;\n",
    "\n",
    "# create time vector for lines in this plot\n",
    "timeHelpVector = (data[validI].index[0], data[validI].index[-1])\n",
    "# lineStyle for helper line https://matplotlib.org/stable/gallery/lines_bars_and_markers/linestyles.html\n",
    "linestyleHelper = (0, (1, 5));\n",
    "\n",
    "#define TEMP_I_MIN 10.0    // Minimale Innentemperatur, bei der die Lüftung nicht mehr aktiviert wird.\n",
    "minTemp_i = 10;\n",
    "#define TEMP_O_MIN -2.0    // Minimale Außentemperatur, bei der die Lüftung nicht mehr aktiviert wird.\n",
    "minTemp_o = -2;\n",
    "#define DEWPOINT_I_MIN 5.0 // Minimaler Taupunkt innen, nur oberhalb läuft der Lüfter\n",
    "minDewPoint_i = 5;\n",
    "\n",
    "colorI = 'orangered';\n",
    "colorO = 'royalblue';"
   ]
  },
  {
   "cell_type": "code",
   "execution_count": null,
   "metadata": {
    "metadata": {}
   },
   "outputs": [],
   "source": [
    "# create plots with german language labels\n",
    "axisCount = 0;\n",
    "plt.close('all')\n",
    "fig, axes = plt.subplots(figsize=[12,12],dpi=150, nrows=3,ncols=1, sharex=\"all\", clear=True);\n",
    "axes[axisCount].set_title(\"Temperaturen\");\n",
    "axes[axisCount].set_ylabel(\"Temperatur / ° C\");\n",
    "data[validO][\"Temperature T_o\"].plot.line(ax = axes[axisCount], marker='none', linestyle='-', label=\"Ist außen\", color=colorO);\n",
    "data[validI][\"Temperature T_i\"].plot.line(ax = axes[axisCount], marker='none', linestyle='-', label=\"Ist innen\", color=colorI);\n",
    "fig.axes[axisCount].plot(timeHelpVector,[minTemp_o, minTemp_o],linestyle=linestyleHelper, label= \"Min o = \"+str(minTemp_o)+\" °C\", color=colorO);\n",
    "fig.axes[axisCount].plot(timeHelpVector,[minTemp_i, minTemp_i],linestyle=linestyleHelper, label= 'Min i = '+str(minTemp_i)+\" °C\", color=colorI);\n",
    "fig.axes[axisCount].legend();\n",
    "fig.axes[axisCount].grid(True);\n",
    "fig.axes[axisCount].legend().set_loc('lower right');\n",
    "\n",
    "axisCount = 1;\n",
    "axes[axisCount].set_title(\"rel. Luftfeuchtigkeit\");\n",
    "axes[axisCount].set_ylabel(\"Feuchtigkeit / %\")\n",
    "data[validO][\"Humidity H_o\"].plot.line(ax = axes[axisCount], marker='none', linestyle='-', label=\"Ist außen\", color=colorO)\n",
    "data[validI][\"Humidity H_i\"].plot.line(ax = axes[axisCount], marker='none', linestyle='-', label=\"Ist innen\", color=colorI);\n",
    "fig.axes[axisCount].legend();\n",
    "fig.axes[axisCount].grid(True);\n",
    "\n",
    "\n",
    "axisCount = 2;\n",
    "axes[axisCount].set_title(\"Taupunkte\");\n",
    "axes[axisCount].set_ylabel(\"Taupunkt / ° C\")\n",
    "data[validO][\"Dew point DP_o\"].plot.line(ax = axes[axisCount], marker='none', linestyle='-', label=\"Ist außen\", color=colorO)\n",
    "data[validO][\"Dew point DP_i\"].plot.line(ax = axes[axisCount], marker='none', linestyle='-', label=\"Ist innen\", color=colorI);\n",
    "d = data[validO].index.values\n",
    "\n",
    "# fill in light green, when outside is drier than inside\n",
    "axes[axisCount].fill_between(d, data[validO][\"Dew point DP_o\"], data[validO][\"Dew point DP_i\"],\n",
    "                where=data[validO][\"Dew point DP_o\"] < data[validO][\"Dew point DP_i\"],\n",
    "               facecolor='green', alpha=0.2, interpolate=True)\n",
    "\n",
    "# fill in dark green, when ventilation is on\n",
    "axes[axisCount].fill_between(d, data[validO][\"Dew point DP_o\"], data[validO][\"Dew point DP_i\"],\n",
    "                where=data[validO][\"Fan\"]==1,\n",
    "               facecolor='green', alpha=1, interpolate=True)\n",
    "#fig.axes[axisCount].arrow(timeHelpVector[0], data[validI][\"Dew point DP_o\"][0]+neccesDeltaP, 0, -neccesDeltaP, width=.01, label=u'Notw. ΔT = ' +str(neccesDeltaP)+\" K\", color='green');\n",
    "fig.axes[axisCount].plot(timeHelpVector,[minDewPoint_i, minDewPoint_i],linestyle=linestyleHelper, label=\"Min i = \"+str(minDewPoint_i)+\" °C\", color=colorI);\n",
    "fig.axes[axisCount].legend();\n",
    "fig.axes[axisCount].legend().set_loc('upper right');\n",
    "fig.axes[axisCount].grid(True);\n",
    "fig.axes[axisCount].set_xlabel('Datum');\n",
    "\n",
    "if (totalOnTime_s > 120):\n",
    "    fig.text(0.125, 0.425, \"Datei: \"+fileNameOnly + \" - Lüfter lief für insgesamt \" + \n",
    "             str(totalOnTime_h) + \" Stunden und \" + \n",
    "             str(totalOnTime_Hmin) +\" Minuten\");\n",
    "else:\n",
    "    fig.text(0.125, 0.425, \"Datei: \"+fileNameOnly + \" - Lüfter lief für insgesamt \" + str(totalOnTime_s/60) + \" Minuten\");\n",
    "\n"
   ]
  },
  {
   "cell_type": "code",
   "execution_count": null,
   "metadata": {},
   "outputs": [],
   "source": [
    "# save figure with original filename, but as an png\n",
    "fullPictureFileNamePath = path + os.path.sep + fileNameOnly + \".png\";\n",
    "fig.savefig(fname = fullPictureFileNamePath, bbox_inches ='tight', dpi = 150, pad_inches=.1)\n",
    "\n",
    "# remove temporary file\n",
    "try: os.remove(newFilename)\n",
    "except FileNotFoundError: print(\"temporary file not deleted\")"
   ]
  }
 ],
 "metadata": {
  "kernelspec": {
   "display_name": ".venv",
   "language": "python",
   "name": "python3"
  },
  "language_info": {
   "codemirror_mode": {
    "name": "ipython",
    "version": 3
   },
   "file_extension": ".py",
   "mimetype": "text/x-python",
   "name": "python",
   "nbconvert_exporter": "python",
   "pygments_lexer": "ipython3",
   "version": "3.12.3"
  }
 },
 "nbformat": 4,
 "nbformat_minor": 2
}
